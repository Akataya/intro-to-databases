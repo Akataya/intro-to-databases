{
 "cells": [
  {
   "cell_type": "markdown",
   "metadata": {},
   "source": [
    "# Database Creation\n",
    "\n",
    "This is the schema that we'll be using:\n",
    "\n",
    "![Database Schema](./database_schema.png)"
   ]
  },
  {
   "cell_type": "markdown",
   "metadata": {},
   "source": [
    "### The database file\n",
    "\n",
    "SQLite can work in-memory or backed by a single file. Which makes it really convenient to transport data. Check out this example of a dataset containing information about 1.88 Million US Wildfires, entirely contained in a SQLite Database File: https://www.kaggle.com/rtatman/188-million-us-wildfires\n",
    "\n",
    "As we said, sqlite is a builtin Python library, so we can just import it without installing anything extra:"
   ]
  },
  {
   "cell_type": "code",
   "execution_count": 1,
   "metadata": {},
   "outputs": [],
   "source": [
    "import sqlite3"
   ]
  },
  {
   "cell_type": "markdown",
   "metadata": {},
   "source": [
    "We create a Databse connection to the file that will store the data:"
   ]
  },
  {
   "cell_type": "code",
   "execution_count": 2,
   "metadata": {},
   "outputs": [],
   "source": [
    "db_conn = sqlite3.connect('example.db')"
   ]
  },
  {
   "cell_type": "markdown",
   "metadata": {},
   "source": [
    "And we can start creating our tables. Please note that most statements will start with `DROP TABLE IF EXISTS...` so we make sure we're not duplicating the data (which would cause an error):"
   ]
  },
  {
   "cell_type": "code",
   "execution_count": 3,
   "metadata": {},
   "outputs": [
    {
     "data": {
      "text/plain": [
       "<sqlite3.Cursor at 0x106b57490>"
      ]
     },
     "execution_count": 3,
     "metadata": {},
     "output_type": "execute_result"
    }
   ],
   "source": [
    "db_conn.executescript(\"\"\"\n",
    "drop table if exists country;\n",
    "create table country (\n",
    "  id integer primary key autoincrement,\n",
    "  name text not null\n",
    ");\n",
    "\n",
    "drop table if exists author;\n",
    "create table author (\n",
    "  id integer primary key autoincrement,\n",
    "  country_id integer,\n",
    "  name text not null\n",
    ");\n",
    "\n",
    "drop table if exists book;\n",
    "create table book (\n",
    "  id integer primary key autoincrement,\n",
    "  author_id integer,\n",
    "  title text not null,\n",
    "  isbn text\n",
    ");\n",
    "\"\"\")"
   ]
  },
  {
   "cell_type": "markdown",
   "metadata": {},
   "source": [
    "Now we create the testing data:\n",
    "\n",
    "**Countries**"
   ]
  },
  {
   "cell_type": "code",
   "execution_count": 4,
   "metadata": {},
   "outputs": [
    {
     "data": {
      "text/plain": [
       "<sqlite3.Cursor at 0x106b57420>"
      ]
     },
     "execution_count": 4,
     "metadata": {},
     "output_type": "execute_result"
    }
   ],
   "source": [
    "db_conn.executescript(\"\"\"\n",
    "INSERT INTO country (id, name) VALUES (1, 'United Kingdom');\n",
    "INSERT INTO country (id, name) VALUES (2, 'USA');\n",
    "INSERT INTO country (id, name) VALUES (3, 'Republic of Ireland');\n",
    "\"\"\")"
   ]
  },
  {
   "cell_type": "markdown",
   "metadata": {},
   "source": [
    "**Authors**"
   ]
  },
  {
   "cell_type": "code",
   "execution_count": 5,
   "metadata": {},
   "outputs": [
    {
     "data": {
      "text/plain": [
       "<sqlite3.Cursor at 0x106b57500>"
      ]
     },
     "execution_count": 5,
     "metadata": {},
     "output_type": "execute_result"
    }
   ],
   "source": [
    "db_conn.executescript(\"\"\"\n",
    "INSERT INTO author (id, country_id, name) VALUES (1, 2, 'Mark Twain');\n",
    "INSERT INTO author (id, country_id, name) VALUES (2, 3, 'Oscar Wilde');\n",
    "INSERT INTO author (id, country_id, name) VALUES (3, 1, 'George Orwell');\n",
    "\"\"\")"
   ]
  },
  {
   "cell_type": "markdown",
   "metadata": {},
   "source": [
    "**Books**"
   ]
  },
  {
   "cell_type": "code",
   "execution_count": 6,
   "metadata": {},
   "outputs": [
    {
     "data": {
      "text/plain": [
       "<sqlite3.Cursor at 0x106b575e0>"
      ]
     },
     "execution_count": 6,
     "metadata": {},
     "output_type": "execute_result"
    }
   ],
   "source": [
    "db_conn.executescript(\"\"\"\n",
    "INSERT INTO book (id, author_id, title, isbn) VALUES (1, 3, '1984', 'XYZ-1');\n",
    "INSERT INTO book (id, author_id, title, isbn) VALUES (2, 2, 'The Happy Prince', 'XYZ-2');\n",
    "INSERT INTO book (id, author_id, title, isbn) VALUES (3, 2, 'The Picture of Dorian Gray', 'XYZ-3');\n",
    "INSERT INTO book (id, author_id, title, isbn) VALUES (4, 1, 'The Adventures of Tom Sawyer', 'XYZ-4');\n",
    "INSERT INTO book (id, author_id, title, isbn) VALUES (5, 1, 'The Adventures of Huckleberry Finn', 'XYZ-5');\n",
    "INSERT INTO book (id, author_id, title, isbn) VALUES (6, 2, 'The Canterville Ghost', 'XYZ-6');\n",
    "INSERT INTO book (id, author_id, title, isbn) VALUES (7, 3, 'Animal Farm', 'XYZ-7');\n",
    "\"\"\")"
   ]
  },
  {
   "cell_type": "markdown",
   "metadata": {},
   "source": [
    "**Querying**\n",
    "\n",
    "Finally, we can run a couple of select queries to make sure our data was created correctly:"
   ]
  },
  {
   "cell_type": "code",
   "execution_count": 7,
   "metadata": {},
   "outputs": [
    {
     "name": "stdout",
     "output_type": "stream",
     "text": [
      "(1, 'United Kingdom')\n",
      "(2, 'USA')\n",
      "(3, 'Republic of Ireland')\n"
     ]
    }
   ],
   "source": [
    "for row in db_conn.execute('SELECT * FROM Country;'):\n",
    "    print(row)"
   ]
  },
  {
   "cell_type": "code",
   "execution_count": 8,
   "metadata": {},
   "outputs": [
    {
     "name": "stdout",
     "output_type": "stream",
     "text": [
      "(1, 2, 'Mark Twain')\n",
      "(2, 3, 'Oscar Wilde')\n",
      "(3, 1, 'George Orwell')\n"
     ]
    }
   ],
   "source": [
    "for row in db_conn.execute('SELECT * FROM Author;'):\n",
    "    print(row)"
   ]
  },
  {
   "cell_type": "code",
   "execution_count": 9,
   "metadata": {},
   "outputs": [
    {
     "name": "stdout",
     "output_type": "stream",
     "text": [
      "(1, 3, '1984', 'XYZ-1')\n",
      "(2, 2, 'The Happy Prince', 'XYZ-2')\n",
      "(3, 2, 'The Picture of Dorian Gray', 'XYZ-3')\n",
      "(4, 1, 'The Adventures of Tom Sawyer', 'XYZ-4')\n",
      "(5, 1, 'The Adventures of Huckleberry Finn', 'XYZ-5')\n",
      "(6, 2, 'The Canterville Ghost', 'XYZ-6')\n",
      "(7, 3, 'Animal Farm', 'XYZ-7')\n"
     ]
    }
   ],
   "source": [
    "for row in db_conn.execute('SELECT * FROM Book;'):\n",
    "    print(row)"
   ]
  }
 ],
 "metadata": {
  "kernelspec": {
   "display_name": "Python 3",
   "language": "python",
   "name": "python3"
  },
  "language_info": {
   "codemirror_mode": {
    "name": "ipython",
    "version": 3
   },
   "file_extension": ".py",
   "mimetype": "text/x-python",
   "name": "python",
   "nbconvert_exporter": "python",
   "pygments_lexer": "ipython3",
   "version": "3.6.0"
  }
 },
 "nbformat": 4,
 "nbformat_minor": 2
}
