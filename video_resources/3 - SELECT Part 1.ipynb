{
 "cells": [
  {
   "cell_type": "markdown",
   "metadata": {},
   "source": [
    "# SELECT Part 1\n",
    "\n",
    "We'll explore different types of queries that can be performed with the SELECT statement."
   ]
  },
  {
   "cell_type": "code",
   "execution_count": 1,
   "metadata": {},
   "outputs": [],
   "source": [
    "import sqlite3\n",
    "db = sqlite3.connect('example.db')"
   ]
  },
  {
   "cell_type": "markdown",
   "metadata": {},
   "source": [
    "### Select *"
   ]
  },
  {
   "cell_type": "code",
   "execution_count": 2,
   "metadata": {},
   "outputs": [
    {
     "data": {
      "text/plain": [
       "[(1, 'United Kingdom'), (2, 'USA'), (3, 'Republic of Ireland')]"
      ]
     },
     "execution_count": 2,
     "metadata": {},
     "output_type": "execute_result"
    }
   ],
   "source": [
    "cursor = db.execute('SELECT * FROM country;')\n",
    "cursor.fetchall()"
   ]
  },
  {
   "cell_type": "code",
   "execution_count": 3,
   "metadata": {
    "scrolled": true
   },
   "outputs": [
    {
     "data": {
      "text/plain": [
       "[(1, 3, '1984', 'XYZ-1'),\n",
       " (2, 2, 'The Happy Prince', 'XYZ-2'),\n",
       " (3, 2, 'The Picture of Dorian Gray', 'XYZ-3'),\n",
       " (4, 1, 'The Adventures of Tom Sawyer', 'XYZ-4'),\n",
       " (5, 1, 'The Adventures of Huckleberry Finn', 'XYZ-5'),\n",
       " (6, 2, 'The Canterville Ghost', 'XYZ-6'),\n",
       " (7, 3, 'Animal Farm', 'XYZ-7')]"
      ]
     },
     "execution_count": 3,
     "metadata": {},
     "output_type": "execute_result"
    }
   ],
   "source": [
    "cursor = db.execute('SELECT * FROM book;')\n",
    "cursor.fetchall()"
   ]
  },
  {
   "cell_type": "code",
   "execution_count": 4,
   "metadata": {},
   "outputs": [
    {
     "name": "stdout",
     "output_type": "stream",
     "text": [
      "1 - 1984\n",
      "2 - The Happy Prince\n",
      "3 - The Picture of Dorian Gray\n",
      "4 - The Adventures of Tom Sawyer\n",
      "5 - The Adventures of Huckleberry Finn\n",
      "6 - The Canterville Ghost\n",
      "7 - Animal Farm\n"
     ]
    }
   ],
   "source": [
    "cursor = db.execute('SELECT * FROM book;')\n",
    "for row in cursor:\n",
    "    id = row[0]\n",
    "    title = row[2]\n",
    "    print(\"{} - {}\".format(id, title))"
   ]
  },
  {
   "cell_type": "markdown",
   "metadata": {},
   "source": [
    "### Select columns"
   ]
  },
  {
   "cell_type": "code",
   "execution_count": 5,
   "metadata": {
    "scrolled": true
   },
   "outputs": [
    {
     "data": {
      "text/plain": [
       "[(1, 'United Kingdom'), (2, 'USA'), (3, 'Republic of Ireland')]"
      ]
     },
     "execution_count": 5,
     "metadata": {},
     "output_type": "execute_result"
    }
   ],
   "source": [
    "cursor = db.execute('SELECT id, name FROM country;')\n",
    "cursor.fetchall()"
   ]
  },
  {
   "cell_type": "code",
   "execution_count": 6,
   "metadata": {
    "scrolled": true
   },
   "outputs": [
    {
     "data": {
      "text/plain": [
       "[(1, '1984'),\n",
       " (2, 'The Happy Prince'),\n",
       " (3, 'The Picture of Dorian Gray'),\n",
       " (4, 'The Adventures of Tom Sawyer'),\n",
       " (5, 'The Adventures of Huckleberry Finn'),\n",
       " (6, 'The Canterville Ghost'),\n",
       " (7, 'Animal Farm')]"
      ]
     },
     "execution_count": 6,
     "metadata": {},
     "output_type": "execute_result"
    }
   ],
   "source": [
    "cursor = db.execute('SELECT id, title FROM book;')\n",
    "cursor.fetchall()"
   ]
  },
  {
   "cell_type": "code",
   "execution_count": 7,
   "metadata": {
    "scrolled": true
   },
   "outputs": [
    {
     "name": "stdout",
     "output_type": "stream",
     "text": [
      "1 - 1984\n",
      "2 - The Happy Prince\n",
      "3 - The Picture of Dorian Gray\n",
      "4 - The Adventures of Tom Sawyer\n",
      "5 - The Adventures of Huckleberry Finn\n",
      "6 - The Canterville Ghost\n",
      "7 - Animal Farm\n"
     ]
    }
   ],
   "source": [
    "cursor = db.execute('SELECT id, title FROM book;')\n",
    "for row in cursor:\n",
    "    id = row[0]\n",
    "    title = row[1]\n",
    "    print(\"{} - {}\".format(id, title))"
   ]
  },
  {
   "cell_type": "markdown",
   "metadata": {},
   "source": [
    "### Select Columns, accessed by names"
   ]
  },
  {
   "cell_type": "code",
   "execution_count": 8,
   "metadata": {},
   "outputs": [],
   "source": [
    "db.row_factory = sqlite3.Row"
   ]
  },
  {
   "cell_type": "code",
   "execution_count": 9,
   "metadata": {},
   "outputs": [
    {
     "data": {
      "text/plain": [
       "[<sqlite3.Row at 0x10d8a6230>,\n",
       " <sqlite3.Row at 0x10d8a6350>,\n",
       " <sqlite3.Row at 0x10d8a62d0>,\n",
       " <sqlite3.Row at 0x10d8a61b0>,\n",
       " <sqlite3.Row at 0x10d8a6170>,\n",
       " <sqlite3.Row at 0x10d8a62f0>,\n",
       " <sqlite3.Row at 0x10d8a6330>]"
      ]
     },
     "execution_count": 9,
     "metadata": {},
     "output_type": "execute_result"
    }
   ],
   "source": [
    "cursor = db.execute('SELECT id, title FROM book;')\n",
    "cursor.fetchall()"
   ]
  },
  {
   "cell_type": "code",
   "execution_count": 10,
   "metadata": {},
   "outputs": [],
   "source": [
    "cursor = db.execute('SELECT id, title FROM book;')\n",
    "row = cursor.fetchone()"
   ]
  },
  {
   "cell_type": "code",
   "execution_count": 11,
   "metadata": {},
   "outputs": [
    {
     "data": {
      "text/plain": [
       "<sqlite3.Row at 0x10d822e70>"
      ]
     },
     "execution_count": 11,
     "metadata": {},
     "output_type": "execute_result"
    }
   ],
   "source": [
    "row"
   ]
  },
  {
   "cell_type": "code",
   "execution_count": 12,
   "metadata": {},
   "outputs": [
    {
     "data": {
      "text/plain": [
       "['id', 'title']"
      ]
     },
     "execution_count": 12,
     "metadata": {},
     "output_type": "execute_result"
    }
   ],
   "source": [
    "row.keys()"
   ]
  },
  {
   "cell_type": "code",
   "execution_count": 13,
   "metadata": {},
   "outputs": [
    {
     "data": {
      "text/plain": [
       "'1984'"
      ]
     },
     "execution_count": 13,
     "metadata": {},
     "output_type": "execute_result"
    }
   ],
   "source": [
    "row['title']"
   ]
  },
  {
   "cell_type": "code",
   "execution_count": 14,
   "metadata": {},
   "outputs": [
    {
     "name": "stdout",
     "output_type": "stream",
     "text": [
      "1 - 1984\n",
      "2 - The Happy Prince\n",
      "3 - The Picture of Dorian Gray\n",
      "4 - The Adventures of Tom Sawyer\n",
      "5 - The Adventures of Huckleberry Finn\n",
      "6 - The Canterville Ghost\n",
      "7 - Animal Farm\n"
     ]
    }
   ],
   "source": [
    "cursor = db.execute('SELECT id, title FROM book;')\n",
    "for row in cursor:\n",
    "    id = row['id']\n",
    "    title = row['title']\n",
    "    print(\"{} - {}\".format(id, title))"
   ]
  },
  {
   "cell_type": "markdown",
   "metadata": {},
   "source": [
    "Using query aliases:"
   ]
  },
  {
   "cell_type": "code",
   "execution_count": 15,
   "metadata": {
    "scrolled": true
   },
   "outputs": [
    {
     "name": "stdout",
     "output_type": "stream",
     "text": [
      "1 - 1984\n",
      "2 - The Happy Prince\n",
      "3 - The Picture of Dorian Gray\n",
      "4 - The Adventures of Tom Sawyer\n",
      "5 - The Adventures of Huckleberry Finn\n",
      "6 - The Canterville Ghost\n",
      "7 - Animal Farm\n"
     ]
    }
   ],
   "source": [
    "cursor = db.execute('SELECT id idx, title book_title FROM book;')\n",
    "for row in cursor:\n",
    "    id = row['idx']\n",
    "    title = row['book_title']\n",
    "    print(\"{} - {}\".format(id, title))"
   ]
  },
  {
   "cell_type": "markdown",
   "metadata": {},
   "source": [
    "I'll reset the Row Factory to see the results as tuples again::"
   ]
  },
  {
   "cell_type": "code",
   "execution_count": 16,
   "metadata": {},
   "outputs": [],
   "source": [
    "db.row_factory = None"
   ]
  },
  {
   "cell_type": "markdown",
   "metadata": {},
   "source": [
    "### Select Where\n",
    "\n",
    "Lets you filter your results with conditions. For example, \"look up all the books written by British authors\":"
   ]
  },
  {
   "cell_type": "code",
   "execution_count": 17,
   "metadata": {
    "scrolled": true
   },
   "outputs": [
    {
     "data": {
      "text/plain": [
       "[(3, 1, 'George Orwell')]"
      ]
     },
     "execution_count": 17,
     "metadata": {},
     "output_type": "execute_result"
    }
   ],
   "source": [
    "cursor = db.execute('SELECT * FROM author WHERE country_id = 1')\n",
    "cursor.fetchall()"
   ]
  },
  {
   "cell_type": "markdown",
   "metadata": {},
   "source": [
    "But what happens if those conditions need to be generated dynamically? For example, the country to use as filter is decided by the user through our website:"
   ]
  },
  {
   "cell_type": "code",
   "execution_count": 18,
   "metadata": {},
   "outputs": [],
   "source": [
    "country_id = 1"
   ]
  },
  {
   "cell_type": "code",
   "execution_count": 19,
   "metadata": {},
   "outputs": [],
   "source": [
    "cursor = db.execute('SELECT * FROM author WHERE country_id = {}'.format(country_id))"
   ]
  },
  {
   "cell_type": "code",
   "execution_count": 20,
   "metadata": {},
   "outputs": [
    {
     "data": {
      "text/plain": [
       "[(3, 1, 'George Orwell')]"
      ]
     },
     "execution_count": 20,
     "metadata": {},
     "output_type": "execute_result"
    }
   ],
   "source": [
    "cursor.fetchall()"
   ]
  },
  {
   "cell_type": "markdown",
   "metadata": {},
   "source": [
    "It seems to work, but this is actually **REALLY DANGEROUS**. We're vulnerable to SQL Injection. What happens if the user, instead of setting `countr_id` to `1`, does something like:"
   ]
  },
  {
   "cell_type": "code",
   "execution_count": 21,
   "metadata": {},
   "outputs": [],
   "source": [
    "country_id = '1 or 1=1; --'"
   ]
  },
  {
   "cell_type": "code",
   "execution_count": 22,
   "metadata": {},
   "outputs": [
    {
     "data": {
      "text/plain": [
       "[(1, 2, 'Mark Twain'), (2, 3, 'Oscar Wilde'), (3, 1, 'George Orwell')]"
      ]
     },
     "execution_count": 22,
     "metadata": {},
     "output_type": "execute_result"
    }
   ],
   "source": [
    "cursor = db.execute('SELECT * FROM author WHERE country_id = {}'.format(country_id))\n",
    "cursor.fetchall()"
   ]
  },
  {
   "cell_type": "markdown",
   "metadata": {},
   "source": [
    "We've just been subject of SQL Injection. The actual country_id can be something like:\n",
    "\n",
    "`1 or 1=1; DELETE FROM User; --`\n",
    "\n",
    "And we've just lost our entire `User` table."
   ]
  },
  {
   "cell_type": "markdown",
   "metadata": {},
   "source": [
    "### SQLite Parameter Substitution\n",
    "\n",
    "Instead of using regular String formatting, we can use SQLite that will take care of escaping any malicious input. Using the previous example:"
   ]
  },
  {
   "cell_type": "code",
   "execution_count": 23,
   "metadata": {},
   "outputs": [],
   "source": [
    "country_id = 1"
   ]
  },
  {
   "cell_type": "code",
   "execution_count": 24,
   "metadata": {},
   "outputs": [
    {
     "data": {
      "text/plain": [
       "[(3, 1, 'George Orwell')]"
      ]
     },
     "execution_count": 24,
     "metadata": {},
     "output_type": "execute_result"
    }
   ],
   "source": [
    "params = [country_id]\n",
    "cursor = db.execute('SELECT * FROM author WHERE country_id = ?', params)\n",
    "cursor.fetchall()"
   ]
  },
  {
   "cell_type": "markdown",
   "metadata": {},
   "source": [
    "Parameters must be provided with a sequence, respecting the order of the placeholders (`?`):"
   ]
  },
  {
   "cell_type": "code",
   "execution_count": 25,
   "metadata": {
    "scrolled": true
   },
   "outputs": [
    {
     "data": {
      "text/plain": [
       "[(1, 3, '1984', 'XYZ-1'),\n",
       " (2, 2, 'The Happy Prince', 'XYZ-2'),\n",
       " (3, 2, 'The Picture of Dorian Gray', 'XYZ-3'),\n",
       " (4, 1, 'The Adventures of Tom Sawyer', 'XYZ-4'),\n",
       " (5, 1, 'The Adventures of Huckleberry Finn', 'XYZ-5'),\n",
       " (6, 2, 'The Canterville Ghost', 'XYZ-6'),\n",
       " (7, 3, 'Animal Farm', 'XYZ-7')]"
      ]
     },
     "execution_count": 25,
     "metadata": {},
     "output_type": "execute_result"
    }
   ],
   "source": [
    "cursor = db.execute('SELECT * FROM book')\n",
    "cursor.fetchall()"
   ]
  },
  {
   "cell_type": "code",
   "execution_count": 26,
   "metadata": {
    "scrolled": false
   },
   "outputs": [
    {
     "data": {
      "text/plain": [
       "[(2, 2, 'The Happy Prince', 'XYZ-2'),\n",
       " (3, 2, 'The Picture of Dorian Gray', 'XYZ-3'),\n",
       " (4, 1, 'The Adventures of Tom Sawyer', 'XYZ-4'),\n",
       " (5, 1, 'The Adventures of Huckleberry Finn', 'XYZ-5'),\n",
       " (6, 2, 'The Canterville Ghost', 'XYZ-6')]"
      ]
     },
     "execution_count": 26,
     "metadata": {},
     "output_type": "execute_result"
    }
   ],
   "source": [
    "params = ['The%']\n",
    "cursor = db.execute('SELECT * FROM book WHERE title LIKE ?', params)\n",
    "cursor.fetchall()"
   ]
  },
  {
   "cell_type": "code",
   "execution_count": 27,
   "metadata": {
    "scrolled": true
   },
   "outputs": [
    {
     "data": {
      "text/plain": [
       "[(4, 1, 'The Adventures of Tom Sawyer', 'XYZ-4'),\n",
       " (5, 1, 'The Adventures of Huckleberry Finn', 'XYZ-5')]"
      ]
     },
     "execution_count": 27,
     "metadata": {},
     "output_type": "execute_result"
    }
   ],
   "source": [
    "params = ['The%', 1]\n",
    "cursor = db.execute('SELECT * FROM book WHERE title LIKE ? AND author_id = ?', params)\n",
    "cursor.fetchall()"
   ]
  },
  {
   "cell_type": "markdown",
   "metadata": {},
   "source": [
    "Sometimes, using sequences to order placeholders `?` might be confusing, so we can use \"named\" parameters instead:"
   ]
  },
  {
   "cell_type": "code",
   "execution_count": 28,
   "metadata": {},
   "outputs": [
    {
     "data": {
      "text/plain": [
       "[(4, 1, 'The Adventures of Tom Sawyer', 'XYZ-4'),\n",
       " (5, 1, 'The Adventures of Huckleberry Finn', 'XYZ-5')]"
      ]
     },
     "execution_count": 28,
     "metadata": {},
     "output_type": "execute_result"
    }
   ],
   "source": [
    "params = {\n",
    "    'title': 'The%',\n",
    "    'author': 1\n",
    "}\n",
    "cursor = db.execute('SELECT * FROM book WHERE title LIKE :title AND author_id = :author', params)\n",
    "cursor.fetchall()"
   ]
  }
 ],
 "metadata": {
  "kernelspec": {
   "display_name": "Python 3",
   "language": "python",
   "name": "python3"
  },
  "language_info": {
   "codemirror_mode": {
    "name": "ipython",
    "version": 3
   },
   "file_extension": ".py",
   "mimetype": "text/x-python",
   "name": "python",
   "nbconvert_exporter": "python",
   "pygments_lexer": "ipython3",
   "version": "3.6.0"
  }
 },
 "nbformat": 4,
 "nbformat_minor": 2
}
